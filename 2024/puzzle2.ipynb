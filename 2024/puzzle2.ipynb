{
 "cells": [
  {
   "cell_type": "markdown",
   "metadata": {},
   "source": [
    "## Puzzle Day 2\n",
    "\n",
    "[Day 2](https://adventofcode.com/2024/day/2)\n",
    "\n",
    "### Common stuff"
   ]
  },
  {
   "cell_type": "code",
   "execution_count": 2,
   "metadata": {},
   "outputs": [],
   "source": [
    "import string\n",
    "\n",
    "def read_file_to_string_array(file_path):\n",
    "    with open(file_path, 'r') as file:\n",
    "        lines = file.readlines()\n",
    "    # Strip newline characters from each line\n",
    "    lines = [line.strip() for line in lines]\n",
    "    return lines\n",
    "\n",
    "def read_file_to_2d_char_array(file_path):\n",
    "    with open(file_path, 'r') as file:\n",
    "        lines = file.readlines()\n",
    "    # Convert each line to a list of characters and store in a 2D array\n",
    "    char_array = [list(line.strip()) for line in lines]\n",
    "    return char_array"
   ]
  },
  {
   "cell_type": "markdown",
   "metadata": {},
   "source": [
    "### Puzzle 2"
   ]
  },
  {
   "cell_type": "code",
   "execution_count": 5,
   "metadata": {},
   "outputs": [
    {
     "name": "stdout",
     "output_type": "stream",
     "text": [
      "7 6 4 2 1\n",
      "7 6 4 2 1\n",
      "7 6 4 2 1\n",
      "7 6 4 2 1\n",
      "9 7 6 2 1\n",
      "9 7 6 2 1\n",
      "8 6 4 4 1\n",
      "8 6 4 4 1\n",
      "diff == 0 \n",
      "Result1:0\n",
      "Result1:0\n"
     ]
    }
   ],
   "source": [
    "file_path = './example2-1.txt'\n",
    "string_array = read_file_to_string_array(file_path)\n",
    "\n",
    "\n",
    "result1 = 0\n",
    "result2 = 0\n",
    "\n",
    "for s in string_array:\n",
    "  report = s.split()\n",
    "  x = 0\n",
    "  y = 0\n",
    "  decreasing = True\n",
    "  for i in range(len(report)-1):\n",
    "    x = int(report[i])\n",
    "    y = int(report[i+1])\n",
    "    diff = x - y\n",
    "\n",
    "    if (diff < 0):\n",
    "      decreasing = True\n",
    "    elif (diff > 0):\n",
    "      decreasing = False\n",
    "    else:\n",
    "      print(f\"diff == 0 \")\n",
    "\n",
    "    if(decreasing and diff not in range (-3, 0)):\n",
    "      break\n",
    "    elif(diff not in range(1, 4)):\n",
    "      break  \n",
    "    print(s)\n",
    "\n",
    "print(f\"Result1:{result1}\")\n",
    "print(f\"Result1:{result2}\")\n",
    "\n",
    "#assert(result1 == 11)\n"
   ]
  }
 ],
 "metadata": {
  "kernelspec": {
   "display_name": "Python 3",
   "language": "python",
   "name": "python3"
  },
  "language_info": {
   "codemirror_mode": {
    "name": "ipython",
    "version": 3
   },
   "file_extension": ".py",
   "mimetype": "text/x-python",
   "name": "python",
   "nbconvert_exporter": "python",
   "pygments_lexer": "ipython3",
   "version": "3.12.3"
  }
 },
 "nbformat": 4,
 "nbformat_minor": 2
}
