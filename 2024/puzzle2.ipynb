{
 "cells": [
  {
   "cell_type": "markdown",
   "metadata": {},
   "source": [
    "## Puzzle Day 2\n",
    "\n",
    "[Day 2](https://adventofcode.com/2024/day/2)\n",
    "\n",
    "### Common stuff"
   ]
  },
  {
   "cell_type": "code",
   "execution_count": 1,
   "metadata": {},
   "outputs": [],
   "source": [
    "import string\n",
    "\n",
    "def read_file_to_string_array(file_path):\n",
    "    with open(file_path, 'r') as file:\n",
    "        lines = file.readlines()\n",
    "    # Strip newline characters from each line\n",
    "    lines = [line.strip() for line in lines]\n",
    "    return lines\n",
    "\n",
    "def read_file_to_2d_char_array(file_path):\n",
    "    with open(file_path, 'r') as file:\n",
    "        lines = file.readlines()\n",
    "    # Convert each line to a list of characters and store in a 2D array\n",
    "    char_array = [list(line.strip()) for line in lines]\n",
    "    return char_array"
   ]
  },
  {
   "cell_type": "markdown",
   "metadata": {},
   "source": [
    "### Puzzle 2"
   ]
  },
  {
   "cell_type": "code",
   "execution_count": null,
   "metadata": {},
   "outputs": [
    {
     "name": "stdout",
     "output_type": "stream",
     "text": [
      "3   4\n",
      "4   3\n",
      "2   5\n",
      "1   3\n",
      "3   9\n",
      "3   3\n",
      "Result1:0\n",
      "Result1:0\n"
     ]
    },
    {
     "ename": "AssertionError",
     "evalue": "",
     "output_type": "error",
     "traceback": [
      "\u001b[0;31m---------------------------------------------------------------------------\u001b[0m",
      "\u001b[0;31mAssertionError\u001b[0m                            Traceback (most recent call last)",
      "Cell \u001b[0;32mIn[2], line 14\u001b[0m\n\u001b[1;32m     11\u001b[0m \u001b[38;5;28mprint\u001b[39m(\u001b[38;5;124mf\u001b[39m\u001b[38;5;124m\"\u001b[39m\u001b[38;5;124mResult1:\u001b[39m\u001b[38;5;132;01m{\u001b[39;00mresult1\u001b[38;5;132;01m}\u001b[39;00m\u001b[38;5;124m\"\u001b[39m)\n\u001b[1;32m     12\u001b[0m \u001b[38;5;28mprint\u001b[39m(\u001b[38;5;124mf\u001b[39m\u001b[38;5;124m\"\u001b[39m\u001b[38;5;124mResult1:\u001b[39m\u001b[38;5;132;01m{\u001b[39;00mresult2\u001b[38;5;132;01m}\u001b[39;00m\u001b[38;5;124m\"\u001b[39m)\n\u001b[0;32m---> 14\u001b[0m \u001b[38;5;28;01massert\u001b[39;00m(result1 \u001b[38;5;241m==\u001b[39m \u001b[38;5;241m11\u001b[39m)\n",
      "\u001b[0;31mAssertionError\u001b[0m: "
     ]
    }
   ],
   "source": [
    "file_path = './example2-1.txt'\n",
    "string_array = read_file_to_string_array(file_path)\n",
    "\n",
    "\n",
    "result1 = 0\n",
    "result2 = 0\n",
    "\n",
    "for s in string_array:\n",
    "  print(s)\n",
    "\n",
    "print(f\"Result1:{result1}\")\n",
    "print(f\"Result1:{result2}\")\n",
    "\n",
    "assert(result1 == 11)\n"
   ]
  }
 ],
 "metadata": {
  "kernelspec": {
   "display_name": "Python 3",
   "language": "python",
   "name": "python3"
  },
  "language_info": {
   "codemirror_mode": {
    "name": "ipython",
    "version": 3
   },
   "file_extension": ".py",
   "mimetype": "text/x-python",
   "name": "python",
   "nbconvert_exporter": "python",
   "pygments_lexer": "ipython3",
   "version": "3.12.3"
  }
 },
 "nbformat": 4,
 "nbformat_minor": 2
}
