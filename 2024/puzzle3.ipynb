{
 "cells": [
  {
   "cell_type": "markdown",
   "metadata": {},
   "source": [
    "## Puzzle Day X3\n",
    "\n",
    "[Day 3](https://adventofcode.com/2024/day/3)\n",
    "\n",
    "### Common stuff"
   ]
  },
  {
   "cell_type": "code",
   "execution_count": null,
   "metadata": {},
   "outputs": [],
   "source": [
    "import string\n",
    "import re\n",
    "\n",
    "\n",
    "def read_file_to_string_array(file_path):\n",
    "    with open(file_path, 'r') as file:\n",
    "        lines = file.readlines()\n",
    "    # Strip newline characters from each line\n",
    "    lines = [line.strip() for line in lines]\n",
    "    return lines\n",
    "\n",
    "def read_file_to_2d_char_array(file_path):\n",
    "    with open(file_path, 'r') as file:\n",
    "        lines = file.readlines()\n",
    "    # Convert each line to a list of characters and store in a 2D array\n",
    "    char_array = [list(line.strip()) for line in lines]\n",
    "    return char_array"
   ]
  },
  {
   "cell_type": "markdown",
   "metadata": {},
   "source": [
    "### Puzzle X"
   ]
  },
  {
   "cell_type": "code",
   "execution_count": null,
   "metadata": {},
   "outputs": [],
   "source": [
    "file_path = './puzzle3-1.txt'\n",
    "string_array = read_file_to_string_array(file_path)\n",
    "\n",
    "pattern = re.compile(\"mul\\(\\d{1,3},\\d{1,3}\\)\")\n",
    "products = []\n",
    "result1 = 0\n",
    "result2 = 0\n",
    "\n",
    "for s in string_array:\n",
    "  products.append(pattern.findall(s))\n",
    "\n",
    "\n",
    "print(f\"Products:{products}\")\n",
    "print(f\"Result1:{len(products)}\")\n",
    "print(f\"Result2:{result2}\")\n",
    "\n",
    "#assert(result1 == 11)\n"
   ]
  }
 ],
 "metadata": {
  "kernelspec": {
   "display_name": "Python 3",
   "language": "python",
   "name": "python3"
  },
  "language_info": {
   "codemirror_mode": {
    "name": "ipython",
    "version": 3
   },
   "file_extension": ".py",
   "mimetype": "text/x-python",
   "name": "python",
   "nbconvert_exporter": "python",
   "pygments_lexer": "ipython3",
   "version": "3.8.10"
  }
 },
 "nbformat": 4,
 "nbformat_minor": 2
}
