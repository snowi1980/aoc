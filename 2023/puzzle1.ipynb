{
 "cells": [
  {
   "cell_type": "markdown",
   "metadata": {},
   "source": [
    "## Puzzle 1-1\n",
    "\n"
   ]
  },
  {
   "cell_type": "code",
   "execution_count": 7,
   "metadata": {},
   "outputs": [
    {
     "name": "stdout",
     "output_type": "stream",
     "text": [
      "final value is 55447\n"
     ]
    }
   ],
   "source": [
    "import string\n",
    "\n",
    "def read_file_to_string_array(file_path):\n",
    "    with open(file_path, 'r') as file:\n",
    "        lines = file.readlines()\n",
    "    # Strip newline characters from each line\n",
    "    lines = [line.strip() for line in lines]\n",
    "    return lines\n",
    "\n",
    "# Example usage\n",
    "file_path = './puzzle1-1.txt'\n",
    "string_array = read_file_to_string_array(file_path)\n",
    "#string_array = [\"1abc2\", \"pqr3stu8vwx\", \"a1b2c3d4e5f\", \"treb7uchet\"]\n",
    "\n",
    "\n",
    "# Create a translation table that maps all alphabetic characters to None\n",
    "translation_table = str.maketrans('', '', string.ascii_letters)\n",
    "\n",
    "# Function to remove alpha characters from a string\n",
    "def remove_alpha_characters(s):\n",
    "    return s.translate(translation_table)\n",
    "\n",
    "def get_first_and_last_character(s):\n",
    "    if len(s) == 0:\n",
    "        return None, None  # Return None if the string is empty\n",
    "    return s[0] + s[-1]\n",
    "\n",
    "# Function to convert a string to an integer\n",
    "def convert_to_int(s):\n",
    "    value = get_first_and_last_character(remove_alpha_characters(s))\n",
    "    try:\n",
    "        return int(value)\n",
    "    except ValueError:\n",
    "        return None  # Return None if the string cannot be converted to an integer\n",
    "\n",
    "\n",
    "\n",
    "sum = 0;\n",
    "# Remove alpha characters from each string in the list\n",
    "for s in string_array:\n",
    "  #  print(convert_to_int(s))\n",
    "    sum += convert_to_int(s)\n",
    "\n",
    "print(f\"final value is {sum}\")"
   ]
  },
  {
   "cell_type": "markdown",
   "metadata": {},
   "source": [
    "## Puzzle 1-2"
   ]
  },
  {
   "cell_type": "code",
   "execution_count": null,
   "metadata": {},
   "outputs": [],
   "source": [
    "import string\n",
    "\n",
    "def read_file_to_string_array(file_path):\n",
    "    with open(file_path, 'r') as file:\n",
    "        lines = file.readlines()\n",
    "    # Strip newline characters from each line\n",
    "    lines = [line.strip() for line in lines]\n",
    "    return lines\n",
    "\n",
    "# Example usage\n",
    "file_path = './puzzle1-2.txt'\n",
    "string_array = read_file_to_string_array(file_path)\n",
    "# string_array = [\"two1nine\",\n",
    "# \"eightwothree\",\n",
    "# \"abcone2threexyz\",\n",
    "# \"xtwone3four\",\n",
    "# \"4nineeightseven2\",\n",
    "# \"zoneight234\",\n",
    "# \"7pqrstsixteen\"]\n",
    "\n",
    "\n",
    "# Function to extract digit words and convert them to a number\n",
    "def extract_digit_words(s):\n",
    "    digit_words = {\n",
    "        \"zero\": \"0\",\n",
    "        \"one\": \"1\",\n",
    "        \"two\": \"2\",\n",
    "        \"three\": \"3\",\n",
    "        \"four\": \"4\",\n",
    "        \"five\": \"5\",\n",
    "        \"six\": \"6\",\n",
    "        \"seven\": \"7\",\n",
    "        \"eight\": \"8\",\n",
    "        \"nine\": \"9\"\n",
    "    }\n",
    "    \n",
    "    result = \"\"\n",
    "    word = \"\"\n",
    "    min_word_len = 3\n",
    "    check = \"\"\n",
    "    \n",
    "\n",
    "    \n",
    "    for i in range(len(s)):\n",
    "       # print(f\"Current Index is {i}\")\n",
    "        if s[i].isdigit():\n",
    "            result += s[i]\n",
    "            continue\n",
    "        \n",
    "        for j in 0,1,2:\n",
    "            #print(f\"Current Index is {i} and j is {j}\")\n",
    "            check = s[i:i+min_word_len+j]\n",
    "            if check in digit_words:\n",
    "                result += digit_words[check]  \n",
    "                i = i+min_word_len+j\n",
    "                break  \n",
    "            else:\n",
    "                continue\n",
    "       # print(f\"Input is {s} and index is {i} current word is {check} and result is {result}\" )               \n",
    "        continue\n",
    "    return result if result else None\n",
    "\n",
    "result_1_2 = 0\n",
    "\n",
    "for s in string_array:\n",
    "    print(get_first_and_last_character(extract_digit_words(s)))\n",
    "    result_1_2 += convert_to_int(get_first_and_last_character(extract_digit_words(s)))\n",
    "\n",
    "print(f\"final value is {result_1_2}\")\n"
   ]
  }
 ],
 "metadata": {
  "kernelspec": {
   "display_name": "Python 3",
   "language": "python",
   "name": "python3"
  },
  "language_info": {
   "codemirror_mode": {
    "name": "ipython",
    "version": 3
   },
   "file_extension": ".py",
   "mimetype": "text/x-python",
   "name": "python",
   "nbconvert_exporter": "python",
   "pygments_lexer": "ipython3",
   "version": "3.8.10"
  }
 },
 "nbformat": 4,
 "nbformat_minor": 2
}
